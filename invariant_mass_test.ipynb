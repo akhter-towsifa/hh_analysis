{
 "cells": [
  {
   "cell_type": "code",
   "execution_count": 48,
   "id": "d9d44fbb",
   "metadata": {},
   "outputs": [],
   "source": [
    "import ROOT"
   ]
  },
  {
   "cell_type": "code",
   "execution_count": 49,
   "id": "6879672a",
   "metadata": {},
   "outputs": [],
   "source": [
    "df_gg = ROOT.RDataFrame(\"Events\", \"/eos/user/t/toakhter/HH_bbtautau_resonant_Run2/anaTuples/v8_deepTau2p1_onlyTauTau_HTT/Run2_2016/GluGluToHHTo2B2Tau_node_SM/nanoHTT_0.root\")\n",
    "df_DY = ROOT.RDataFrame(\"Events\", \"/eos/user/t/toakhter/HH_bbtautau_resonant_Run2/anaTuples/v8_deepTau2p1_onlyTauTau_HTT/Run2_2016/DYJetsToLL_M-50-amcatnloFXFX/nanoHTT_0.root\")\n",
    "df_TT2L2nu = ROOT.RDataFrame(\"Events\", \"/eos/user/t/toakhter/HH_bbtautau_resonant_Run2/anaTuples/v8_deepTau2p1_onlyTauTau_HTT/Run2_2016/TTTo2L2Nu/nanoHTT_0.root\")\n",
    "df_TThad = ROOT.RDataFrame(\"Events\", \"/eos/user/t/toakhter/HH_bbtautau_resonant_Run2/anaTuples/v8_deepTau2p1_onlyTauTau_HTT/Run2_2016/TTToHadronic/nanoHTT_0.root\")\n",
    "df_TTlep = ROOT.RDataFrame(\"Events\", \"/eos/user/t/toakhter/HH_bbtautau_resonant_Run2/anaTuples/v8_deepTau2p1_onlyTauTau_HTT/Run2_2016/TTToSemiLeptonic/nanoHTT_0.root\")"
   ]
  },
  {
   "cell_type": "code",
   "execution_count": 50,
   "id": "1149c1fc",
   "metadata": {},
   "outputs": [
    {
     "name": "stdout",
     "output_type": "stream",
     "text": [
      "number of events: gg:  5422\n",
      "number of events: Drell-Yan:  312\n",
      "number of events: tautau to 2 leptons and 2 nutrinos:  903\n",
      "number of events: hadronic tautau:  903\n",
      "number of events: leptonic tautau:  903\n"
     ]
    }
   ],
   "source": [
    "print(\"number of events: gg: \", df_gg.Count().GetValue())\n",
    "print(\"number of events: Drell-Yan: \", df_DY.Count().GetValue())\n",
    "print(\"number of events: tautau to 2 leptons and 2 nutrinos: \", df_TT2L2nu.Count().GetValue())\n",
    "print(\"number of events: hadronic tautau: \", df_TT2L2nu.Count().GetValue())\n",
    "print(\"number of events: leptonic tautau: \", df_TT2L2nu.Count().GetValue())"
   ]
  },
  {
   "cell_type": "code",
   "execution_count": 111,
   "id": "527af56a",
   "metadata": {},
   "outputs": [],
   "source": [
    "def getMHbbHist(file_name, string):\n",
    "    df = ROOT.RDataFrame(\"Events\", file_name)\n",
    "\n",
    "    for n in range(1, 3):\n",
    "        df = df.Define(f\"b{n}_p4\", f\"ROOT::Math::PtEtaPhiMVector(b{n}_pt, b{n}_eta, b{n}_phi, b{n}_mass)\")\n",
    "    df = df.Define(\"mH_bb\", \"(b1_p4 + b2_p4).mass()\")\n",
    "\n",
    "    #hist = df.Histo1D((\"mH_bb\", string, 100, 0, 500), \"mH_bb\")\n",
    "    hist = df.Histo1D((\"mH_bb\", string, 100, 0, 500), \"mH_bb\", \"weight_MC_Lumi_pu\")\n",
    "    \n",
    "    return hist\n",
    "\n",
    "def getMHttHist(file_name, string):\n",
    "    df = ROOT.RDataFrame(\"Events\", file_name)\n",
    "\n",
    "    for n in range(1, 3):\n",
    "        df = df.Define(f\"tau{n}_p4\", f\"ROOT::Math::PtEtaPhiMVector(tau{n}_pt, tau{n}_eta, tau{n}_phi, tau{n}_mass)\")\n",
    "    df = df.Define(\"mH_tautau\", \"(tau1_p4 + tau2_p4).mass()\")\n",
    "\n",
    "    #hist = df.Histo1D((\"mH_tautau\", string, 100, 0, 500), \"mH_tautau\")\n",
    "    hist = df.Histo1D((\"mH_tautau\", string, 100, 0, 500), \"mH_tautau\", \"weight_MC_Lumi_pu\")\n",
    "    \n",
    "    return hist\n",
    "\n",
    "def getMHHHist(file_name, string):\n",
    "    df = ROOT.RDataFrame(\"Events\", file_name)\n",
    "    \n",
    "    for n in range(1, 3):\n",
    "        df = df.Define(f\"b{n}_p4\", f\"ROOT::Math::PtEtaPhiMVector(b{n}_pt, b{n}_eta, b{n}_phi, b{n}_mass)\")\n",
    "        df = df.Define(f\"tau{n}_p4\", f\"ROOT::Math::PtEtaPhiMVector(tau{n}_pt, tau{n}_eta, tau{n}_phi, tau{n}_mass)\")\n",
    "        \n",
    "    df = df.Define(\"mH_bb\", \"(b1_p4 + b2_p4).mass()\")\n",
    "    df = df.Define(\"mH_tautau\", \"(tau1_p4 + tau2_p4).mass()\")\n",
    "    \n",
    "    #df = df.Define(\"mHH\", \"mH_bb + mH_tautau\")\n",
    "    df = df.Define(\"mHH\", \"(b1_p4 + b2_p4).mass() + (tau1_p4 + tau2_p4).mass()\")\n",
    "\n",
    "    hist = df.Histo1D((\"mHH\", string, 100, 0, 500), \"mHH\")\n",
    "    #hist = df.Histo1D((\"mH_bb\", string, 100, 0, 500), \"mH_bb\", \"weight_MC_Lumi_pu\")\n",
    "    \n",
    "    return hist"
   ]
  },
  {
   "cell_type": "code",
   "execution_count": 112,
   "id": "c11ce12d",
   "metadata": {},
   "outputs": [],
   "source": [
    "def plotter(canvas, hist, string, higgs_string, color):\n",
    "    canvas = ROOT.TCanvas(\"\",\"\", 400, 400, 400, 400)\n",
    "\n",
    "    hist.SetLineColor(color)\n",
    "\n",
    "    hist.SetLineStyle(1)\n",
    "\n",
    "    hist.SetLineWidth(2)\n",
    "\n",
    "    #hist.Scale(1/hist.Integral())\n",
    "\n",
    "    xAxis = hist.GetXaxis()\n",
    "    xAxis.SetTitleOffset(0)\n",
    "    xAxis.SetTitleSize(0.05)\n",
    "    xAxis.SetTitle(\"Invariant Mass of {h} from {string} [GeV]\".format(h=higgs_string, string=string))\n",
    "\n",
    "    yAxis = hist.GetYaxis()\n",
    "    #yAxis.SetRangeUser(0, 1.2*max(hist_gg.GetMaximum(), hist_VBF_C2V_0.GetMaximum(), hist_VBF_C2V_1.GetMaximum()))\n",
    "    yAxis.SetTitle(\"events\")\n",
    "    yAxis.SetTitleOffset(1)\n",
    "    yAxis.SetTitleSize(0.05)\n",
    "\n",
    "    hist.Draw(\"HIST\")\n",
    "\n",
    "    canvas.SetGrid()\n",
    "    canvas.Draw()\n",
    "    \n",
    "    return canvas\n"
   ]
  },
  {
   "cell_type": "code",
   "execution_count": 113,
   "id": "d7a366bd",
   "metadata": {},
   "outputs": [
    {
     "data": {
      "text/plain": [
       "<cppyy.gbl.TCanvas object at 0x1fda6dd0>"
      ]
     },
     "execution_count": 113,
     "metadata": {},
     "output_type": "execute_result"
    },
    {
     "data": {
      "image/png": "[encoded data removed]",
      "text/plain": [
       "<IPython.core.display.Image object>"
      ]
     },
     "metadata": {},
     "output_type": "display_data"
    }
   ],
   "source": [
    "file_gg = \"/eos/user/t/toakhter/HH_bbtautau_resonant_Run2/anaTuples/v8_deepTau2p1_onlyTauTau_HTT/Run2_2016/GluGluToHHTo2B2Tau_node_SM/nanoHTT_0.root\"\n",
    "hist_bb = getMHbbHist(file_gg, \"bb\")\n",
    "canvas = ROOT.TCanvas(\"\",\"\", 400, 400, 400, 400)\n",
    "plotter(canvas, hist_bb, \"bb\", \"Higgs\", ROOT.kGreen+2)"
   ]
  },
  {
   "cell_type": "code",
   "execution_count": 114,
   "id": "f0df1b9b",
   "metadata": {},
   "outputs": [
    {
     "data": {
      "text/plain": [
       "<cppyy.gbl.TCanvas object at 0x177edb10>"
      ]
     },
     "execution_count": 114,
     "metadata": {},
     "output_type": "execute_result"
    },
    {
     "data": {
      "image/png": "[encoded data removed]",
      "text/plain": [
       "<IPython.core.display.Image object>"
      ]
     },
     "metadata": {},
     "output_type": "display_data"
    }
   ],
   "source": [
    "hist_tautau = getMHttHist(file_gg, \"tautau\")\n",
    "canvas1 = ROOT.TCanvas(\"\",\"\", 400, 400, 400, 400)\n",
    "plotter(canvas1, hist_tautau, \"#tau#tau\", \"Higgs\", ROOT.kRed)"
   ]
  },
  {
   "cell_type": "code",
   "execution_count": 110,
   "id": "d77f246a",
   "metadata": {},
   "outputs": [
    {
     "data": {
      "text/plain": [
       "<cppyy.gbl.TCanvas object at 0x18143cd0>"
      ]
     },
     "execution_count": 110,
     "metadata": {},
     "output_type": "execute_result"
    },
    {
     "data": {
      "image/png": "[encoded data removed]",
      "text/plain": [
       "<IPython.core.display.Image object>"
      ]
     },
     "metadata": {},
     "output_type": "display_data"
    }
   ],
   "source": [
    "hist_HH = getMHHHist(file_gg, \"HH\")\n",
    "canvas2 = ROOT.TCanvas(\"\",\"\", 400, 400, 400, 400)\n",
    "plotter(canvas2, hist_HH, \"HH\", \"diHiggs\", ROOT.kBlue)"
   ]
  },
  {
   "cell_type": "code",
   "execution_count": 127,
   "id": "e72619af",
   "metadata": {},
   "outputs": [
    {
     "data": {
      "image/png": "[encoded data removed]",
      "text/plain": [
       "<IPython.core.display.Image object>"
      ]
     },
     "metadata": {},
     "output_type": "display_data"
    }
   ],
   "source": [
    "ROOT.gStyle.SetOptStat(0)\n",
    "canvas3 = ROOT.TCanvas(\"\",\"\", 400, 400, 400, 400)\n",
    "\n",
    "hist_bb.SetLineColor(ROOT.kGreen+2)\n",
    "hist_tautau.SetLineColor(ROOT.kRed)\n",
    "hist_HH.SetLineColor(ROOT.kBlue)\n",
    "\n",
    "hist_bb.SetLineStyle(1)\n",
    "hist_tautau.SetLineStyle(2)\n",
    "hist_HH.SetLineStyle(9)\n",
    "\n",
    "hist_bb.SetLineWidth(2)\n",
    "hist_tautau.SetLineWidth(2)\n",
    "hist_HH.SetLineWidth(2)\n",
    "\n",
    "hist_bb.Scale(1/hist_bb.Integral())\n",
    "hist_tautau.Scale(1/hist_tautau.Integral())\n",
    "hist_HH.Scale(1/hist_HH.Integral())\n",
    "\n",
    "xAxis = hist_HH.GetXaxis()\n",
    "xAxis.SetTitleOffset(0)\n",
    "xAxis.SetTitleSize(0.05)\n",
    "xAxis.SetTitle(\"Invariant Mass[GeV]\")\n",
    "\n",
    "yAxis = hist_HH.GetYaxis()\n",
    "yAxis.SetRangeUser(0, 1.2*max(hist_bb.GetMaximum(), hist_tautau.GetMaximum(), hist_HH.GetMaximum()))\n",
    "yAxis.SetTitle(\"Normalized events\")\n",
    "yAxis.SetTitleOffset(1)\n",
    "yAxis.SetTitleSize(0.05)\n",
    "\n",
    "hist_HH.Draw(\"HIST\")\n",
    "hist_bb.Draw(\"HIST same\")\n",
    "hist_tautau.Draw(\"HIST same\")\n",
    "\n",
    "\n",
    "#h = ROOT.TH1D(\"h\", \"h\", 2500, 0, 2500)\n",
    "#h = hist_gg.clone()\n",
    "\n",
    "legend = ROOT.TLegend(0.5,0.73,0.9,0.85)\n",
    "#legend.AddEntry(hist_bb, \"bb\")\n",
    "#legend.AddEntry(hist_VBF_C2V_0,\"VBF K2V=0\")\n",
    "#legend.AddEntry(hist_VBF_C2V_1,\"VBF K2V=1\")\n",
    "legend.SetBorderSize(0)\n",
    "#legend.Draw()\n",
    "\n",
    "canvas3.SetGrid()\n",
    "canvas3.Draw()\n"
   ]
  },
  {
   "cell_type": "code",
   "execution_count": null,
   "id": "52b47a98",
   "metadata": {},
   "outputs": [],
   "source": [
    "file_DY = \"/eos/user/t/toakhter/HH_bbtautau_resonant_Run2/anaTuples/v8_deepTau2p1_onlyTauTau_HTT/Run2_2016/DYJetsToLL_M-50-amcatnloFXFX/nanoHTT_0.root\"\n",
    "hist = getMHHist(file_DY, \"DY\")\n",
    "file_TT2L2nu = \"/eos/user/t/toakhter/HH_bbtautau_resonant_Run2/anaTuples/v8_deepTau2p1_onlyTauTau_HTT/Run2_2016/TTTo2L2Nu/nanoHTT_0.root\"\n",
    "file_TThad = \"/eos/user/t/toakhter/HH_bbtautau_resonant_Run2/anaTuples/v8_deepTau2p1_onlyTauTau_HTT/Run2_2016/TTToHadronic/nanoHTT_0.root\"\n",
    "file_TTlep = \"/eos/user/t/toakhter/HH_bbtautau_resonant_Run2/anaTuples/v8_deepTau2p1_onlyTauTau_HTT/Run2_2016/TTToSemiLeptonic/nanoHTT_0.root\""
   ]
  }
 ],
 "metadata": {
  "kernelspec": {
   "display_name": "Python 3",
   "language": "python",
   "name": "python3"
  },
  "language_info": {
   "codemirror_mode": {
    "name": "ipython",
    "version": 3
   },
   "file_extension": ".py",
   "mimetype": "text/x-python",
   "name": "python",
   "nbconvert_exporter": "python",
   "pygments_lexer": "ipython3",
   "version": "3.9.12"
  }
 },
 "nbformat": 4,
 "nbformat_minor": 5
}
