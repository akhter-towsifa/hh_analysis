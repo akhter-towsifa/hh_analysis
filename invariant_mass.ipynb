{
 "cells": [
  {
   "cell_type": "code",
   "execution_count": null,
   "id": "9067f058-95e7-4e6d-83db-71906d074283",
   "metadata": {},
   "outputs": [],
   "source": [
    "import ROOT"
   ]
  },
  {
   "cell_type": "code",
   "execution_count": null,
   "id": "98e9e97a-ef22-4436-8f66-ac2b0f4b1055",
   "metadata": {},
   "outputs": [],
   "source": [
    "def getMHHHist(file_name, string):\n",
    "    df = ROOT.RDataFrame(\"Events\", file_name)\n",
    "    df = df.Define(f\"isHiggs\", \"LHEPart_pdgId == 25\")\n",
    "    df = df.Define(f\"nHiggs\", \"LHEPart_pt[isHiggs].size()\")\n",
    "\n",
    "    #df.Filter(\"nHiggs == 2\").Count().GetValue()\n",
    "\n",
    "    for n in range(2):\n",
    "        for v in [ 'pt', 'eta', 'phi', 'mass' ]:\n",
    "            df = df.Define(f\"Higgs{n}_{v}\", f\"LHEPart_{v}[isHiggs][{n}]\")\n",
    "\n",
    "    for n in range(2):\n",
    "        df = df.Define(f\"Higgs{n}_p4\", f\"ROOT::Math::PtEtaPhiMVector(Higgs{n}_pt, Higgs{n}_eta, Higgs{n}_phi, Higgs{n}_mass)\")\n",
    "    df = df.Define(\"mHH\", \"(Higgs0_p4 + Higgs1_p4).mass()\")\n",
    "\n",
    "    hist = df.Histo1D((\"mHH\", string, 250, 0, 2500), \"mHH\")\n",
    "    \n",
    "    return hist"
   ]
  },
  {
   "cell_type": "code",
   "execution_count": null,
   "id": "a71caa8c-e0cc-459a-b938-07b969effcf0",
   "metadata": {},
   "outputs": [],
   "source": [
    "hist_gg = getMHHHist(file_gg, \"gg\")\n",
    "hist_VBF_C2V_0 = getMHHHist(file_VBF_C2V_0, \"K_2V=0\")\n",
    "hist_VBF_C2V_1 = getMHHHist(file_VBF_C2V_1, \"K_2V=0\")"
   ]
  },
  {
   "cell_type": "code",
   "execution_count": null,
   "id": "ec0d2d02-1fc1-4d1e-846c-b920ef73dc57",
   "metadata": {},
   "outputs": [],
   "source": [
    "canvas = ROOT.TCanvas(\"\",\"\", 400, 400, 400, 400)\n",
    "\n",
    "hist_gg.SetLineColor(ROOT.kGreen+2)\n",
    "hist_VBF_C2V_0.SetLineColor(ROOT.kBlue)\n",
    "hist_VBF_C2V_1.SetLineColor(ROOT.kRed)\n",
    "\n",
    "hist_gg.SetLineStyle(1)\n",
    "hist_VBF_C2V_0.SetLineStyle(2)\n",
    "hist_VBF_C2V_1.SetLineStyle(9)\n",
    "\n",
    "hist_gg.SetLineWidth(2)\n",
    "hist_VBF_C2V_0.SetLineWidth(2)\n",
    "hist_VBF_C2V_1.SetLineWidth(2)\n",
    "\n",
    "hist_gg.Scale(1/hist_gg.Integral())\n",
    "hist_VBF_C2V_0.Scale(1/hist_VBF_C2V_0.Integral())\n",
    "hist_VBF_C2V_1.Scale(1/hist_VBF_C2V_1.Integral())\n",
    "\n",
    "xAxis = hist_gg.GetXaxis()\n",
    "xAxis.SetTitleOffset(0)\n",
    "xAxis.SetTitleSize(0.05)\n",
    "xAxis.SetTitle(\"Invariant Mass of DiHiggs [GeV]\")\n",
    "\n",
    "yAxis = hist_gg.GetYaxis()\n",
    "yAxis.SetRangeUser(0, 1.2*max(hist_gg.GetMaximum(), hist_VBF_C2V_0.GetMaximum(), hist_VBF_C2V_1.GetMaximum()))\n",
    "yAxis.SetTitle(\"Normalized events\")\n",
    "yAxis.SetTitleOffset(1)\n",
    "yAxis.SetTitleSize(0.05)\n",
    "\n",
    "hist_gg.Draw(\"HIST\")\n",
    "hist_VBF_C2V_0.Draw(\"HIST same\")\n",
    "hist_VBF_C2V_1.Draw(\"HIST same\")\n",
    "\n",
    "#h = ROOT.TH1D(\"h\", \"h\", 2500, 0, 2500)\n",
    "#h = hist_gg.clone()\n",
    "\n",
    "legend = ROOT.TLegend(0.5,0.73,0.9,0.85)\n",
    "#legend.AddEntry(h,\"gg\")\n",
    "#legend.AddEntry(hist_VBF_C2V_0,\"VBF K2V=0\")\n",
    "#legend.AddEntry(hist_VBF_C2V_1,\"VBF K2V=1\")\n",
    "legend.SetBorderSize(0)\n",
    "legend.Draw()\n",
    "\n",
    "canvas.SetGrid()\n",
    "canvas.Draw()\n"
   ]
  }
 ],
 "metadata": {
  "kernelspec": {
   "display_name": "Python 3",
   "language": "python",
   "name": "python3"
  },
  "language_info": {
   "codemirror_mode": {
    "name": "ipython",
    "version": 3
   },
   "file_extension": ".py",
   "mimetype": "text/x-python",
   "name": "python",
   "nbconvert_exporter": "python",
   "pygments_lexer": "ipython3",
   "version": "3.9.12"
  }
 },
 "nbformat": 4,
 "nbformat_minor": 5
}
