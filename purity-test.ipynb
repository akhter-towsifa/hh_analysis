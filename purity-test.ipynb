{
 "cells": [
  {
   "cell_type": "code",
   "execution_count": null,
   "id": "d8d3e05a",
   "metadata": {},
   "outputs": [],
   "source": [
    "import ROOT"
   ]
  },
  {
   "cell_type": "code",
   "execution_count": null,
   "id": "7cc66a24",
   "metadata": {},
   "outputs": [],
   "source": [
    "df_gg = ROOT.RDataFrame(\"Events\", \"/eos/user/t/toakhter/HH_bbtautau_Run3/anaTuples/dev/Run3_2022/GluGlutoHHto2B2Tau_kl-1p00_kt-1p00_c2-0p00/nano_0.root\")\n",
    "df_VBF = ROOT.RDataFrame(\"Events\", \"/eos/user/t/toakhter/HH_bbtautau_Run3/anaTuples/dev/Run3_2022/VBFHHto2B2Tau_CV_1_C2V_1_C3_1/nano_0.root\")"
   ]
  },
  {
   "cell_type": "code",
   "execution_count": null,
   "id": "8390b85e",
   "metadata": {},
   "outputs": [],
   "source": [
    "print(\"number of events: gg: \", df_gg.Count().GetValue())\n",
    "print(\"number of events: VBF: \", df_VBF.Count().GetValue())"
   ]
  },
  {
   "cell_type": "code",
   "execution_count": null,
   "id": "495974c2",
   "metadata": {},
   "outputs": [],
   "source": [
    "def denominator_tau_func(df):\n",
    "    df = df.Define(f\"denominator_tau\", f\"\"\"\n",
    "                    (tau1_charge * tau2_charge)==-1 &&\n",
    "                    tau1_idDeepTau2018v2p5VSjet >= 5 && tau2_idDeepTau2018v2p5VSjet >= 5 &&\n",
    "                    genLepton1_kind == 5 && genLepton2_kind == 5 &&\n",
    "                    genLepton1_pt > 20 && genLepton2_pt > 20 &&\n",
    "                    abs(genLepton1_eta) < 2.5 && abs(genLepton2_eta) < 2.5\n",
    "    \"\"\")\n",
    "    print(\"denominator_tau\", df.Filter(\"denominator_tau\").Count().GetValue())\n",
    "    return df\n",
    "\n",
    "def numerator_tau_func(df):\n",
    "    for idx in range(1,3):\n",
    "        df = df.Define(f\"matchedRecoGenLep{idx}\", f\"tau{idx}_gen_kind == genLepton{idx}_kind\")\n",
    "        print(idx, df.Filter(f\"matchedRecoGenLep{idx}\").Count().GetValue())\n",
    "\n",
    "    df = df.Define(\"matchedRecoGenLeptons\", \"matchedRecoGenLep1 && matchedRecoGenLep2\")\n",
    "    print(\"matchedRecoGenLeptons\", df.Filter(\"matchedRecoGenLeptons\").Count().GetValue())\n",
    "    \n",
    "    df = df.Define(f\"numerator_tau\", \"denominator_tau && matchedRecoGenLeptons\")\n",
    "    print(\"numerator tau\", df.Filter(\"numerator_tau\").Count().GetValue())\n",
    "    \n",
    "    return df\n",
    "\n",
    "def tau_purity(df, purity):\n",
    "\n",
    "    df = denominator_tau_func(df)\n",
    "    df = numerator_tau_func(df)\n",
    "    \n",
    "    num = df.Filter(\"numerator_tau\").Count().GetValue()\n",
    "    denom = df.Filter(\"denominator_tau\").Count().GetValue()\n",
    "    \n",
    "    print(\"denominator\", denom)\n",
    "    print(\"numerator\", num)\n",
    "    purity = num / denom\n",
    "    print(\"purity\", purity)\n",
    "    \n",
    "    return purity\n",
    "\n",
    "def denominator_b_func(df):\n",
    "    \n",
    "    df = df.Define(f\"denominator_b\", f\"numerator_tau && nJetFromGenHbb >= 2\")\n",
    "    print(\"denominator_b\", df.Filter(\"denominator_b\").Count().GetValue())\n",
    "    \n",
    "    return df\n",
    "\n",
    "def numerator_b_func(df):\n",
    "\n",
    "    df = df.Define(f\"numerator_b\", f\"denominator_b && b1_fromGenHbb && b2_fromGenHbb\")\n",
    "    print(\"numerator b\", df.Filter(\"numerator_b\").Count().GetValue())\n",
    "    \n",
    "    return df\n",
    "\n",
    "def b_purity(df, purity):\n",
    "\n",
    "    df = denominator_tau_func(df)\n",
    "    df = numerator_tau_func(df)\n",
    "    df = denominator_b_func(df)\n",
    "    df = numerator_b_func(df)\n",
    "    \n",
    "    num = df.Filter(\"numerator_b\").Count().GetValue()\n",
    "    denom = df.Filter(\"denominator_b\").Count().GetValue()\n",
    "    \n",
    "    print(\"denominator\", denom)\n",
    "    print(\"numerator\", num)\n",
    "    purity = num / denom\n",
    "    print(\"purity\", purity)\n",
    "    \n",
    "    return purity"
   ]
  },
  {
   "cell_type": "code",
   "execution_count": 161,
   "id": "37f4dde4",
   "metadata": {},
   "outputs": [
    {
     "name": "stdout",
     "output_type": "stream",
     "text": [
      "denominator_tau 3905\n",
      "1 6946\n",
      "2 6586\n",
      "matchedRecoGenLeptons 6575\n",
      "numerator tau 3898\n",
      "denominator 3905\n",
      "numerator 3898\n",
      "purity 0.9982074263764404\n",
      "tau purity 0.9982074263764404\n",
      "\n",
      "\n",
      "\n",
      "\n",
      "denominator_tau 3905\n",
      "1 6946\n",
      "2 6586\n",
      "matchedRecoGenLeptons 6575\n",
      "numerator tau 3898\n",
      "denominator_b 2154\n",
      "numerator b 2117\n",
      "denominator 2154\n",
      "numerator 2117\n",
      "purity 0.9828226555246053\n",
      "b purity 0.9828226555246053\n"
     ]
    }
   ],
   "source": [
    "file_gg = \"/eos/user/t/toakhter/HH_bbtautau_Run3/anaTuples/dev/Run3_2022/GluGlutoHHto2B2Tau_kl-1p00_kt-1p00_c2-0p00/nano_0.root\"\n",
    "df_gg = ROOT.RDataFrame(\"Events\", file_gg)\n",
    "\n",
    "tau_purity_value = tau_purity(df_gg, purity=0)\n",
    "print(\"tau purity\", tau_purity_value)\n",
    "\n",
    "print(\"\\n\\n\\n\")\n",
    "\n",
    "b_purity_value = b_purity(df_gg, purity=0)\n",
    "print(\"b purity\", b_purity_value)"
   ]
  },
  {
   "cell_type": "code",
   "execution_count": 160,
   "id": "35e2f9e5",
   "metadata": {},
   "outputs": [
    {
     "name": "stdout",
     "output_type": "stream",
     "text": [
      "denominator_tau 23564\n",
      "1 42286\n",
      "2 38374\n",
      "matchedRecoGenLeptons 38191\n",
      "numerator tau 23457\n",
      "denominator 23564\n",
      "numerator 23457\n",
      "purity 0.9954591750127313\n",
      "tau purity 0.9954591750127313\n",
      "\n",
      "\n",
      "\n",
      "\n",
      "denominator_tau 23564\n",
      "1 42286\n",
      "2 38374\n",
      "matchedRecoGenLeptons 38191\n",
      "numerator tau 23457\n",
      "denominator_b 9055\n",
      "numerator b 8951\n",
      "denominator 9055\n",
      "numerator 8951\n",
      "purity 0.9885146327995582\n",
      "b purity 0.9885146327995582\n"
     ]
    }
   ],
   "source": [
    "file_VBF = \"/eos/user/t/toakhter/HH_bbtautau_Run3/anaTuples/dev/Run3_2022/VBFHHto2B2Tau_CV_1_C2V_1_C3_1/nano_0.root\"\n",
    "df_VBF = ROOT.RDataFrame(\"Events\", file_VBF)\n",
    "\n",
    "tau_purity_value_VBF = tau_purity(df_VBF, purity=0)\n",
    "print(\"tau purity\", tau_purity_value_VBF)\n",
    "\n",
    "print(\"\\n\\n\\n\")\n",
    "\n",
    "b_purity_value_VBF = b_purity(df_VBF, purity=0)\n",
    "print(\"b purity\", b_purity_value_VBF)"
   ]
  },
  {
   "cell_type": "code",
   "execution_count": null,
   "id": "82b764f2",
   "metadata": {},
   "outputs": [],
   "source": []
  }
 ],
 "metadata": {
  "kernelspec": {
   "display_name": "Python 3",
   "language": "python",
   "name": "python3"
  },
  "language_info": {
   "codemirror_mode": {
    "name": "ipython",
    "version": 3
   },
   "file_extension": ".py",
   "mimetype": "text/x-python",
   "name": "python",
   "nbconvert_exporter": "python",
   "pygments_lexer": "ipython3",
   "version": "3.9.12"
  }
 },
 "nbformat": 4,
 "nbformat_minor": 5
}
