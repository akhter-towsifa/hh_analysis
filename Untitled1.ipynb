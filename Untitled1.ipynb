{
 "cells": [
  {
   "cell_type": "code",
   "execution_count": 83,
   "id": "a9200cbe-9245-46c7-ba22-132f5993abeb",
   "metadata": {},
   "outputs": [],
   "source": [
    "import ROOT"
   ]
  },
  {
   "cell_type": "code",
   "execution_count": 64,
   "id": "c429d3ca-0a05-4df8-ba8c-906354ff6a26",
   "metadata": {},
   "outputs": [],
   "source": [
    "df_gg = ROOT.RDataFrame(\"Events\", \"/eos/cms/store/group/phys_higgs/HLepRare/skim_2024_v1/Run3_2022/GluGlutoHHto2B2Tau_kl-1p00_kt-1p00_c2-0p00/nano_0.root\")\n",
    "df_VBF_C2V_0 = ROOT.RDataFrame(\"Events\", \"/eos/cms/store/group/phys_higgs/HLepRare/skim_2024_v1/Run3_2022-bugged/VBFHHto2B2Tau_CV_1_C2V_0_C3_1/nano_0.root\")\n",
    "df_VBF_C2V_1 = ROOT.RDataFrame(\"Events\", \"/eos/cms/store/group/phys_higgs/HLepRare/skim_2024_v1/Run3_2022-bugged/VBFHHto2B2Tau_CV_1_C2V_1_C3_1/nano_0.root\")"
   ]
  },
  {
   "cell_type": "code",
   "execution_count": 65,
   "id": "7f8f1f24-66bf-4f03-aade-d6387ac1e84e",
   "metadata": {},
   "outputs": [
    {
     "name": "stdout",
     "output_type": "stream",
     "text": [
      "number of events: gg:  85786\n",
      "number of events: VBF K_2V = 0:  841844\n",
      "number of events: VBF K_2V = 1:  704627\n"
     ]
    }
   ],
   "source": [
    "#df.GetColumnNames()\n",
    "print(\"number of events: gg: \", df_gg.Count().GetValue())\n",
    "print(\"number of events: VBF K_2V = 0: \", df_VBF_C2V_0.Count().GetValue())\n",
    "print(\"number of events: VBF K_2V = 1: \", df_VBF_C2V_1.Count().GetValue())"
   ]
  },
  {
   "cell_type": "code",
   "execution_count": 66,
   "id": "ae1e86b6-988c-4428-843c-0c860852c194",
   "metadata": {},
   "outputs": [],
   "source": [
    "#df_list = [df_gg, df_VBF_C2V_0, df_VBF_C2V_1]\n",
    "#df_str_list = [\"gg\", \"VBF_C2V_0\", \"VBF_C2V_1\"]\n",
    "\n",
    "#for i in range(3):\n",
    "#    string = df_str_list[i]\n",
    "#    df = df_list[i]\n",
    "#    df = df.Define(f\"isHiggs_{string}\", \"LHEPart_pdgId == 25\")\n",
    "\n",
    "df_gg = df_gg.Define(f\"isHiggs_gg\", \"LHEPart_pdgId == 25\")\n",
    "df_VBF_C2V_0 = df_VBF_C2V_0.Define(f\"isHiggs_VBF_C2V_0\", \"LHEPart_pdgId == 25\")\n",
    "df_VBF_C2V_1 = df_VBF_C2V_1.Define(f\"isHiggs_VBF_C2V_1\", \"LHEPart_pdgId == 25\")"
   ]
  },
  {
   "cell_type": "code",
   "execution_count": 69,
   "id": "c6525521-8639-4847-aaeb-a1246ece1789",
   "metadata": {},
   "outputs": [
    {
     "name": "stdout",
     "output_type": "stream",
     "text": [
      "<cppyy.gbl.ROOT.RDF.RInterface<ROOT::Detail::RDF::RLoopManager,void> object at 0xf3ac480> A data frame built on top of the Events dataset.\n"
     ]
    },
    {
     "ename": "runtime_error",
     "evalue": "Template method resolution failed:\n  ROOT::RDF::RInterface<ROOT::Detail::RDF::RLoopManager,void> ROOT::RDF::RInterface<ROOT::Detail::RDF::RLoopManager,void>::Define(basic_string_view<char,char_traits<char> > name, basic_string_view<char,char_traits<char> > expression) =>\n    runtime_error: RDataFrame::Define: cannot define column \"isHiggs_VBF_C2V_1\". A column with that name has already been Define'd. Use Redefine to force redefinition.\n  ROOT::RDF::RInterface<ROOT::Detail::RDF::RLoopManager,void> ROOT::RDF::RInterface<ROOT::Detail::RDF::RLoopManager,void>::Define(basic_string_view<char,char_traits<char> > name, basic_string_view<char,char_traits<char> > expression) =>\n    runtime_error: RDataFrame::Define: cannot define column \"isHiggs_VBF_C2V_1\". A column with that name has already been Define'd. Use Redefine to force redefinition.",
     "output_type": "error",
     "traceback": [
      "\u001b[0;31m---------------------------------------------------------------------------\u001b[0m",
      "\u001b[0;31mruntime_error\u001b[0m                             Traceback (most recent call last)",
      "\u001b[0;32m/tmp/ipykernel_885/826987843.py\u001b[0m in \u001b[0;36m<module>\u001b[0;34m\u001b[0m\n\u001b[1;32m      4\u001b[0m \u001b[0;31m#    df = df.Define(f\"nHiggs_{string}\", f\"LHEPart_pt[isHiggs_{string}].size()\")\u001b[0m\u001b[0;34m\u001b[0m\u001b[0;34m\u001b[0m\u001b[0m\n\u001b[1;32m      5\u001b[0m \u001b[0mprint\u001b[0m\u001b[0;34m(\u001b[0m\u001b[0mdf_VBF_C2V_1\u001b[0m\u001b[0;34m,\u001b[0m \u001b[0mdf_list\u001b[0m\u001b[0;34m[\u001b[0m\u001b[0mi\u001b[0m\u001b[0;34m]\u001b[0m\u001b[0;34m)\u001b[0m\u001b[0;34m\u001b[0m\u001b[0;34m\u001b[0m\u001b[0m\n\u001b[0;32m----> 6\u001b[0;31m \u001b[0mdf_VBF_C2V_1\u001b[0m \u001b[0;34m=\u001b[0m \u001b[0mdf_VBF_C2V_1\u001b[0m\u001b[0;34m.\u001b[0m\u001b[0mDefine\u001b[0m\u001b[0;34m(\u001b[0m\u001b[0;34mf\"isHiggs_VBF_C2V_1\"\u001b[0m\u001b[0;34m,\u001b[0m \u001b[0;34m\"LHEPart_pdgId == 25\"\u001b[0m\u001b[0;34m)\u001b[0m\u001b[0;34m\u001b[0m\u001b[0;34m\u001b[0m\u001b[0m\n\u001b[0m\u001b[1;32m      7\u001b[0m \u001b[0mdf_VBF_C2V_1\u001b[0m \u001b[0;34m=\u001b[0m \u001b[0mdf_VBF_C2V_1\u001b[0m\u001b[0;34m.\u001b[0m\u001b[0mDefine\u001b[0m\u001b[0;34m(\u001b[0m\u001b[0;34mf\"nHiggs_VBF_C2V_1\"\u001b[0m\u001b[0;34m,\u001b[0m \u001b[0;34m\"LHEPart_pt[isHiggs_VBF_C2V_1].size()\"\u001b[0m\u001b[0;34m)\u001b[0m\u001b[0;34m\u001b[0m\u001b[0;34m\u001b[0m\u001b[0m\n",
      "\u001b[0;32m/cvmfs/sft.cern.ch/lcg/views/LCG_105a_swan/x86_64-el9-gcc13-opt/lib/ROOT/_pythonization/_rdf_pyz.py\u001b[0m in \u001b[0;36m_PyDefine\u001b[0;34m(rdf, col_name, callable_or_str, cols, extra_args)\u001b[0m\n\u001b[1;32m    370\u001b[0m \u001b[0;34m\u001b[0m\u001b[0m\n\u001b[1;32m    371\u001b[0m     \u001b[0;32mif\u001b[0m \u001b[0misinstance\u001b[0m\u001b[0;34m(\u001b[0m\u001b[0mcallable_or_str\u001b[0m\u001b[0;34m,\u001b[0m \u001b[0mstr\u001b[0m\u001b[0;34m)\u001b[0m\u001b[0;34m:\u001b[0m \u001b[0;31m# If string argument is passed. Invoke the Original Define.\u001b[0m\u001b[0;34m\u001b[0m\u001b[0;34m\u001b[0m\u001b[0m\n\u001b[0;32m--> 372\u001b[0;31m         \u001b[0;32mreturn\u001b[0m \u001b[0mrdf\u001b[0m\u001b[0;34m.\u001b[0m\u001b[0m_OriginalDefine\u001b[0m\u001b[0;34m(\u001b[0m\u001b[0mcol_name\u001b[0m\u001b[0;34m,\u001b[0m \u001b[0mcallable_or_str\u001b[0m\u001b[0;34m)\u001b[0m\u001b[0;34m\u001b[0m\u001b[0;34m\u001b[0m\u001b[0m\n\u001b[0m\u001b[1;32m    373\u001b[0m \u001b[0;34m\u001b[0m\u001b[0m\n\u001b[1;32m    374\u001b[0m     \u001b[0;32mif\u001b[0m \u001b[0;32mnot\u001b[0m \u001b[0mcallable\u001b[0m\u001b[0;34m(\u001b[0m\u001b[0mcallable_or_str\u001b[0m\u001b[0;34m)\u001b[0m\u001b[0;34m:\u001b[0m \u001b[0;31m# The 2st argument is either a string or a python callable.\u001b[0m\u001b[0;34m\u001b[0m\u001b[0;34m\u001b[0m\u001b[0m\n",
      "\u001b[0;31mruntime_error\u001b[0m: Template method resolution failed:\n  ROOT::RDF::RInterface<ROOT::Detail::RDF::RLoopManager,void> ROOT::RDF::RInterface<ROOT::Detail::RDF::RLoopManager,void>::Define(basic_string_view<char,char_traits<char> > name, basic_string_view<char,char_traits<char> > expression) =>\n    runtime_error: RDataFrame::Define: cannot define column \"isHiggs_VBF_C2V_1\". A column with that name has already been Define'd. Use Redefine to force redefinition.\n  ROOT::RDF::RInterface<ROOT::Detail::RDF::RLoopManager,void> ROOT::RDF::RInterface<ROOT::Detail::RDF::RLoopManager,void>::Define(basic_string_view<char,char_traits<char> > name, basic_string_view<char,char_traits<char> > expression) =>\n    runtime_error: RDataFrame::Define: cannot define column \"isHiggs_VBF_C2V_1\". A column with that name has already been Define'd. Use Redefine to force redefinition."
     ]
    }
   ],
   "source": [
    "#for i in range(3):\n",
    "#    string = df_str_list[i]\n",
    "#    df = df_list[i]\n",
    "#    df = df.Define(f\"nHiggs_{string}\", f\"LHEPart_pt[isHiggs_{string}].size()\")\n",
    "\n",
    "df_VBF_C2V_1 = df_VBF_C2V_1.Define(f\"isHiggs_VBF_C2V_1\", \"LHEPart_pdgId == 25\")\n",
    "df_VBF_C2V_1 = df_VBF_C2V_1.Define(f\"nHiggs_VBF_C2V_1\", \"LHEPart_pt[isHiggs_VBF_C2V_1].size()\")"
   ]
  },
  {
   "cell_type": "code",
   "execution_count": 68,
   "id": "738113eb-b967-4e7a-988b-a94da4fe6f0c",
   "metadata": {},
   "outputs": [
    {
     "data": {
      "text/plain": [
       "704627"
      ]
     },
     "execution_count": 68,
     "metadata": {},
     "output_type": "execute_result"
    }
   ],
   "source": [
    "df_VBF_C2V_1.Filter(\"nHiggs_VBF_C2V_1 == 2\").Count().GetValue()"
   ]
  },
  {
   "cell_type": "code",
   "execution_count": 7,
   "id": "d2545f13-5c40-41a5-9c2d-6266146da117",
   "metadata": {},
   "outputs": [],
   "source": [
    "for n in range(2):\n",
    "    for v in [ 'pt', 'eta', 'phi', 'mass' ]:\n",
    "        df = df.Define(f\"Higgs{n}_{v}\", f\"LHEPart_{v}[isHiggs][{n}]\")"
   ]
  },
  {
   "cell_type": "code",
   "execution_count": 8,
   "id": "d480e241-7c4c-45f5-89a7-03928b58e880",
   "metadata": {},
   "outputs": [
    {
     "data": {
      "image/png": "[encoded data removed]",
      "text/plain": [
       "<IPython.core.display.Image object>"
      ]
     },
     "metadata": {},
     "output_type": "display_data"
    }
   ],
   "source": [
    "canvas = ROOT.TCanvas(\"\",\"\", 400, 400)\n",
    "hist = df.Histo1D(\"Higgs0_pt\")\n",
    "hist.Draw()\n",
    "canvas.Draw()"
   ]
  },
  {
   "cell_type": "code",
   "execution_count": 11,
   "id": "3e0124e9-7fd7-46bd-a26a-9405e5b98f0f",
   "metadata": {},
   "outputs": [],
   "source": [
    "for n in range(2):\n",
    "    df = df.Define(f\"Higgs{n}_p4\", f\"ROOT::Math::PtEtaPhiMVector(Higgs{n}_pt, Higgs{n}_eta, Higgs{n}_phi, Higgs{n}_mass)\")"
   ]
  },
  {
   "cell_type": "code",
   "execution_count": 13,
   "id": "50a25d9b-f59a-4d09-b21d-bf66aaffe10a",
   "metadata": {},
   "outputs": [
    {
     "ename": "runtime_error",
     "evalue": "Template method resolution failed:\n  ROOT::RDF::RInterface<ROOT::Detail::RDF::RLoopManager,void> ROOT::RDF::RInterface<ROOT::Detail::RDF::RLoopManager,void>::Define(basic_string_view<char,char_traits<char> > name, basic_string_view<char,char_traits<char> > expression) =>\n    runtime_error: RDataFrame::Define: cannot define column \"mHH\". A column with that name has already been Define'd. Use Redefine to force redefinition.\n  ROOT::RDF::RInterface<ROOT::Detail::RDF::RLoopManager,void> ROOT::RDF::RInterface<ROOT::Detail::RDF::RLoopManager,void>::Define(basic_string_view<char,char_traits<char> > name, basic_string_view<char,char_traits<char> > expression) =>\n    runtime_error: RDataFrame::Define: cannot define column \"mHH\". A column with that name has already been Define'd. Use Redefine to force redefinition.",
     "output_type": "error",
     "traceback": [
      "\u001b[0;31m---------------------------------------------------------------------------\u001b[0m",
      "\u001b[0;31mruntime_error\u001b[0m                             Traceback (most recent call last)",
      "\u001b[0;32m/tmp/ipykernel_752/1475600276.py\u001b[0m in \u001b[0;36m<module>\u001b[0;34m\u001b[0m\n\u001b[0;32m----> 1\u001b[0;31m \u001b[0mdf\u001b[0m \u001b[0;34m=\u001b[0m \u001b[0mdf\u001b[0m\u001b[0;34m.\u001b[0m\u001b[0mDefine\u001b[0m\u001b[0;34m(\u001b[0m\u001b[0;34m\"mHH\"\u001b[0m\u001b[0;34m,\u001b[0m \u001b[0;34m\"(Higgs0_p4 + Higgs1_p4).mass()\"\u001b[0m\u001b[0;34m)\u001b[0m\u001b[0;34m\u001b[0m\u001b[0;34m\u001b[0m\u001b[0m\n\u001b[0m",
      "\u001b[0;32m/cvmfs/sft.cern.ch/lcg/views/LCG_105a_swan/x86_64-el9-gcc13-opt/lib/ROOT/_pythonization/_rdf_pyz.py\u001b[0m in \u001b[0;36m_PyDefine\u001b[0;34m(rdf, col_name, callable_or_str, cols, extra_args)\u001b[0m\n\u001b[1;32m    370\u001b[0m \u001b[0;34m\u001b[0m\u001b[0m\n\u001b[1;32m    371\u001b[0m     \u001b[0;32mif\u001b[0m \u001b[0misinstance\u001b[0m\u001b[0;34m(\u001b[0m\u001b[0mcallable_or_str\u001b[0m\u001b[0;34m,\u001b[0m \u001b[0mstr\u001b[0m\u001b[0;34m)\u001b[0m\u001b[0;34m:\u001b[0m \u001b[0;31m# If string argument is passed. Invoke the Original Define.\u001b[0m\u001b[0;34m\u001b[0m\u001b[0;34m\u001b[0m\u001b[0m\n\u001b[0;32m--> 372\u001b[0;31m         \u001b[0;32mreturn\u001b[0m \u001b[0mrdf\u001b[0m\u001b[0;34m.\u001b[0m\u001b[0m_OriginalDefine\u001b[0m\u001b[0;34m(\u001b[0m\u001b[0mcol_name\u001b[0m\u001b[0;34m,\u001b[0m \u001b[0mcallable_or_str\u001b[0m\u001b[0;34m)\u001b[0m\u001b[0;34m\u001b[0m\u001b[0;34m\u001b[0m\u001b[0m\n\u001b[0m\u001b[1;32m    373\u001b[0m \u001b[0;34m\u001b[0m\u001b[0m\n\u001b[1;32m    374\u001b[0m     \u001b[0;32mif\u001b[0m \u001b[0;32mnot\u001b[0m \u001b[0mcallable\u001b[0m\u001b[0;34m(\u001b[0m\u001b[0mcallable_or_str\u001b[0m\u001b[0;34m)\u001b[0m\u001b[0;34m:\u001b[0m \u001b[0;31m# The 2st argument is either a string or a python callable.\u001b[0m\u001b[0;34m\u001b[0m\u001b[0;34m\u001b[0m\u001b[0m\n",
      "\u001b[0;31mruntime_error\u001b[0m: Template method resolution failed:\n  ROOT::RDF::RInterface<ROOT::Detail::RDF::RLoopManager,void> ROOT::RDF::RInterface<ROOT::Detail::RDF::RLoopManager,void>::Define(basic_string_view<char,char_traits<char> > name, basic_string_view<char,char_traits<char> > expression) =>\n    runtime_error: RDataFrame::Define: cannot define column \"mHH\". A column with that name has already been Define'd. Use Redefine to force redefinition.\n  ROOT::RDF::RInterface<ROOT::Detail::RDF::RLoopManager,void> ROOT::RDF::RInterface<ROOT::Detail::RDF::RLoopManager,void>::Define(basic_string_view<char,char_traits<char> > name, basic_string_view<char,char_traits<char> > expression) =>\n    runtime_error: RDataFrame::Define: cannot define column \"mHH\". A column with that name has already been Define'd. Use Redefine to force redefinition."
     ]
    }
   ],
   "source": [
    "df = df.Define(\"mHH\", \"(Higgs0_p4 + Higgs1_p4).mass()\")"
   ]
  },
  {
   "cell_type": "code",
   "execution_count": 14,
   "id": "48ee562b-3047-4f8f-822f-6afb7584f282",
   "metadata": {},
   "outputs": [
    {
     "data": {
      "image/png": "[encoded data removed]",
      "text/plain": [
       "<IPython.core.display.Image object>"
      ]
     },
     "metadata": {},
     "output_type": "display_data"
    }
   ],
   "source": [
    "canvas = ROOT.TCanvas(\"\",\"\", 400, 400)\n",
    "hist = df.Histo1D(\"mHH\")\n",
    "hist.Draw()\n",
    "canvas.Draw()"
   ]
  },
  {
   "cell_type": "code",
   "execution_count": 128,
   "id": "6343809b-e6fb-4fa8-9997-48d79f1dfb94",
   "metadata": {},
   "outputs": [],
   "source": [
    "def getMHHHist(file_name, string):\n",
    "    df = ROOT.RDataFrame(\"Events\", file_name)\n",
    "    df = df.Define(f\"isHiggs\", \"LHEPart_pdgId == 25\")\n",
    "    df = df.Define(f\"nHiggs\", \"LHEPart_pt[isHiggs].size()\")\n",
    "\n",
    "    #df.Filter(\"nHiggs == 2\").Count().GetValue()\n",
    "\n",
    "    for n in range(2):\n",
    "        for v in [ 'pt', 'eta', 'phi', 'mass' ]:\n",
    "            df = df.Define(f\"Higgs{n}_{v}\", f\"LHEPart_{v}[isHiggs][{n}]\")\n",
    "\n",
    "    for n in range(2):\n",
    "        df = df.Define(f\"Higgs{n}_p4\", f\"ROOT::Math::PtEtaPhiMVector(Higgs{n}_pt, Higgs{n}_eta, Higgs{n}_phi, Higgs{n}_mass)\")\n",
    "    df = df.Define(\"mHH\", \"(Higgs0_p4 + Higgs1_p4).mass()\")\n",
    "\n",
    "    hist = df.Histo1D((\"mHH\", string, 250, 0, 2500), \"mHH\")\n",
    "    \n",
    "    return hist"
   ]
  },
  {
   "cell_type": "code",
   "execution_count": 129,
   "id": "41c71612-5bfa-45e3-931c-eaa46afa6d27",
   "metadata": {},
   "outputs": [],
   "source": [
    "file_gg = \"/eos/cms/store/group/phys_higgs/HLepRare/skim_2024_v1/Run3_2022/GluGlutoHHto2B2Tau_kl-1p00_kt-1p00_c2-0p00/nano_0.root\"\n",
    "file_VBF_C2V_0 = \"/eos/cms/store/group/phys_higgs/HLepRare/skim_2024_v1/Run3_2022-bugged/VBFHHto2B2Tau_CV_1_C2V_0_C3_1/nano_0.root\"\n",
    "file_VBF_C2V_1 = \"/eos/cms/store/group/phys_higgs/HLepRare/skim_2024_v1/Run3_2022-bugged/VBFHHto2B2Tau_CV_1_C2V_1_C3_1/nano_0.root\"\n",
    "\n",
    "hist_gg = getMHHHist(file_gg, \"gg\")\n",
    "hist_VBF_C2V_0 = getMHHHist(file_VBF_C2V_0, \"K_2V=0\")\n",
    "hist_VBF_C2V_1 = getMHHHist(file_VBF_C2V_1, \"K_2V=0\")"
   ]
  },
  {
   "cell_type": "code",
   "execution_count": 132,
   "id": "3fb1846f-ef65-43c2-b14b-31bf677dcf93",
   "metadata": {},
   "outputs": [
    {
     "data": {
      "image/png": "[encoded data removed]",
      "text/plain": [
       "<IPython.core.display.Image object>"
      ]
     },
     "metadata": {},
     "output_type": "display_data"
    }
   ],
   "source": [
    "canvas = ROOT.TCanvas(\"\",\"\", 400, 400, 400, 400)\n",
    "\n",
    "hist_gg.SetLineColor(ROOT.kGreen+2)\n",
    "hist_VBF_C2V_0.SetLineColor(ROOT.kBlue)\n",
    "hist_VBF_C2V_1.SetLineColor(ROOT.kRed)\n",
    "\n",
    "hist_gg.SetLineStyle(1)\n",
    "hist_VBF_C2V_0.SetLineStyle(2)\n",
    "hist_VBF_C2V_1.SetLineStyle(9)\n",
    "\n",
    "hist_gg.SetLineWidth(2)\n",
    "hist_VBF_C2V_0.SetLineWidth(2)\n",
    "hist_VBF_C2V_1.SetLineWidth(2)\n",
    "\n",
    "hist_gg.Scale(1/hist_gg.Integral())\n",
    "hist_VBF_C2V_0.Scale(1/hist_VBF_C2V_0.Integral())\n",
    "hist_VBF_C2V_1.Scale(1/hist_VBF_C2V_1.Integral())\n",
    "\n",
    "xAxis = hist_gg.GetXaxis()\n",
    "xAxis.SetTitleOffset(0)\n",
    "xAxis.SetTitleSize(0.05)\n",
    "xAxis.SetTitle(\"Invariant Mass of DiHiggs [GeV]\")\n",
    "\n",
    "yAxis = hist_gg.GetYaxis()\n",
    "yAxis.SetRangeUser(0, 1.2*max(hist_gg.GetMaximum(), hist_VBF_C2V_0.GetMaximum(), hist_VBF_C2V_1.GetMaximum()))\n",
    "yAxis.SetTitle(\"Normalized events\")\n",
    "yAxis.SetTitleOffset(1)\n",
    "yAxis.SetTitleSize(0.05)\n",
    "\n",
    "hist_gg.Draw(\"HIST\")\n",
    "hist_VBF_C2V_0.Draw(\"HIST same\")\n",
    "hist_VBF_C2V_1.Draw(\"HIST same\")\n",
    "\n",
    "#h = ROOT.TH1D(\"h\", \"h\", 2500, 0, 2500)\n",
    "#h = hist_gg.clone()\n",
    "\n",
    "legend = ROOT.TLegend(0.5,0.73,0.9,0.85)\n",
    "#legend.AddEntry(h,\"gg\")\n",
    "#legend.AddEntry(hist_VBF_C2V_0,\"VBF K2V=0\")\n",
    "#legend.AddEntry(hist_VBF_C2V_1,\"VBF K2V=1\")\n",
    "legend.SetBorderSize(0)\n",
    "legend.Draw()\n",
    "\n",
    "canvas.SetGrid()\n",
    "canvas.Draw()\n"
   ]
  },
  {
   "cell_type": "code",
   "execution_count": null,
   "id": "327db873-30f1-41a5-884e-1081ec7745af",
   "metadata": {},
   "outputs": [],
   "source": []
  },
  {
   "cell_type": "code",
   "execution_count": null,
   "id": "d238f6b7-153f-47bf-9be1-4672d0327c2b",
   "metadata": {},
   "outputs": [],
   "source": []
  },
  {
   "cell_type": "code",
   "execution_count": null,
   "id": "bcf8796d-61fc-4a5f-9e4b-96cb5cad8933",
   "metadata": {},
   "outputs": [],
   "source": []
  }
 ],
 "metadata": {
  "kernelspec": {
   "display_name": "Python 3",
   "language": "python",
   "name": "python3"
  },
  "language_info": {
   "codemirror_mode": {
    "name": "ipython",
    "version": 3
   },
   "file_extension": ".py",
   "mimetype": "text/x-python",
   "name": "python",
   "nbconvert_exporter": "python",
   "pygments_lexer": "ipython3",
   "version": "3.9.12"
  }
 },
 "nbformat": 4,
 "nbformat_minor": 5
}
